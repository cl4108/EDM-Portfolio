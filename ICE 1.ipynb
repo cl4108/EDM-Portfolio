{
 "cells": [
  {
   "cell_type": "markdown",
   "id": "11a9ae38",
   "metadata": {},
   "source": [
    "ICE 1\n",
    "\n",
    "Author: Chendanni Liu\n",
    " \n",
    "Installment notes:\n",
    " \n",
    "\n",
    "#1: Installed and registered for RDS management console on AWS:\n",
    " \n",
    " #2:Tried and create the first database:\n",
    "db1.cbm4d2l0nmag.us-east-1.rds.amazonaws.com\n",
    " \n",
    " #3 checked inbound rule:\n",
    " The id address for me to get in later \n",
    " sg-0a0b5dbf8b448030b\tIPv4\tMYSQL/Aurora\tTCP\t3306\t\n",
    "\n",
    " source(ID):\t47.39.105.9/32"
   ]
  },
  {
   "cell_type": "markdown",
   "id": "162d84bc",
   "metadata": {},
   "source": [
    "# Working with AWS RDS MySQL with Python"
   ]
  },
  {
   "cell_type": "code",
   "execution_count": 2,
   "id": "20bd6343",
   "metadata": {},
   "outputs": [
    {
     "name": "stdout",
     "output_type": "stream",
     "text": [
      "Requirement already satisfied: pymysql in d:\\16266\\conda\\lib\\site-packages (1.0.2)\n",
      "Note: you may need to restart the kernel to use updated packages.\n"
     ]
    }
   ],
   "source": [
    "pip install pymysql"
   ]
  },
  {
   "cell_type": "code",
   "execution_count": 5,
   "id": "1e2cd2e7",
   "metadata": {},
   "outputs": [
    {
     "name": "stdout",
     "output_type": "stream",
     "text": [
      "Collecting panda\n",
      "Note: you may need to restart the kernel to use updated packages.  Downloading panda-0.3.1.tar.gz (5.8 kB)\n",
      "Requirement already satisfied: setuptools in d:\\16266\\conda\\lib\\site-packages (from panda) (58.0.4)\n",
      "Requirement already satisfied: requests in d:\\16266\\conda\\lib\\site-packages (from panda) (2.26.0)\n",
      "Requirement already satisfied: certifi>=2017.4.17 in d:\\16266\\conda\\lib\\site-packages (from requests->panda) (2021.10.8)\n",
      "Requirement already satisfied: idna<4,>=2.5 in d:\\16266\\conda\\lib\\site-packages (from requests->panda) (3.2)\n",
      "Requirement already satisfied: charset-normalizer~=2.0.0 in d:\\16266\\conda\\lib\\site-packages (from requests->panda) (2.0.4)\n",
      "Requirement already satisfied: urllib3<1.27,>=1.21.1 in d:\\16266\\conda\\lib\\site-packages (from requests->panda) (1.26.7)\n",
      "Building wheels for collected packages: panda\n",
      "  Building wheel for panda (setup.py): started\n",
      "  Building wheel for panda (setup.py): finished with status 'done'\n",
      "  Created wheel for panda: filename=panda-0.3.1-py3-none-any.whl size=7255 sha256=4d20ad36e1c21cbbb160ebb83cea2150fe71a25e11bcbfd302de50b13f4dfd6d\n",
      "  Stored in directory: c:\\users\\16266\\appdata\\local\\pip\\cache\\wheels\\6c\\5a\\a9\\a28c87238ddcc61701224f538bedccc21c9e2b8bc6fa8fca0e\n",
      "Successfully built panda\n",
      "Installing collected packages: panda\n",
      "Successfully installed panda-0.3.1\n",
      "\n"
     ]
    }
   ],
   "source": [
    "pip install panda"
   ]
  },
  {
   "cell_type": "code",
   "execution_count": 2,
   "id": "c98fe38b",
   "metadata": {},
   "outputs": [],
   "source": [
    "import pandas as pd\n",
    "import pymysql"
   ]
  },
  {
   "cell_type": "code",
   "execution_count": 8,
   "id": "21a86375",
   "metadata": {
    "scrolled": true
   },
   "outputs": [
    {
     "name": "stdout",
     "output_type": "stream",
     "text": [
      "Collecting sshtunnel\n",
      "  Downloading sshtunnel-0.4.0-py2.py3-none-any.whl (24 kB)\n",
      "Requirement already satisfied: paramiko>=2.7.2 in d:\\16266\\conda\\lib\\site-packages (from sshtunnel) (2.7.2)\n",
      "Requirement already satisfied: bcrypt>=3.1.3 in d:\\16266\\conda\\lib\\site-packages (from paramiko>=2.7.2->sshtunnel) (3.2.0)\n",
      "Requirement already satisfied: pynacl>=1.0.1 in d:\\16266\\conda\\lib\\site-packages (from paramiko>=2.7.2->sshtunnel) (1.4.0)\n",
      "Requirement already satisfied: cryptography>=2.5 in d:\\16266\\conda\\lib\\site-packages (from paramiko>=2.7.2->sshtunnel) (3.4.8)\n",
      "Requirement already satisfied: six>=1.4.1 in d:\\16266\\conda\\lib\\site-packages (from bcrypt>=3.1.3->paramiko>=2.7.2->sshtunnel) (1.16.0)\n",
      "Requirement already satisfied: cffi>=1.1 in d:\\16266\\conda\\lib\\site-packages (from bcrypt>=3.1.3->paramiko>=2.7.2->sshtunnel) (1.14.6)\n",
      "Requirement already satisfied: pycparser in d:\\16266\\conda\\lib\\site-packages (from cffi>=1.1->bcrypt>=3.1.3->paramiko>=2.7.2->sshtunnel) (2.20)\n",
      "Installing collected packages: sshtunnel\n",
      "Successfully installed sshtunnel-0.4.0\n"
     ]
    }
   ],
   "source": [
    "!pip install sshtunnel"
   ]
  },
  {
   "cell_type": "code",
   "execution_count": 20,
   "id": "7d7ca5ed",
   "metadata": {},
   "outputs": [
    {
     "name": "stdout",
     "output_type": "stream",
     "text": [
      "Collecting psycopg2-binary\n",
      "  Downloading psycopg2_binary-2.9.3-cp39-cp39-win_amd64.whl (1.2 MB)\n",
      "Installing collected packages: psycopg2-binary\n",
      "Successfully installed psycopg2-binary-2.9.3\n",
      "Note: you may need to restart the kernel to use updated packages.\n"
     ]
    }
   ],
   "source": [
    "pip install psycopg2-binary"
   ]
  },
  {
   "cell_type": "code",
   "execution_count": 21,
   "id": "80dec9ac",
   "metadata": {},
   "outputs": [],
   "source": [
    "PGHOST = 'db1.cbm4d2l0nmag.us-east-1.rds.amazonaws.com'\n",
    "PGDATABASE = 'db1'\n",
    "PGUSER = 'admin'\n",
    "PGPASSWORD = 'lcdn1998'"
   ]
  },
  {
   "cell_type": "code",
   "execution_count": 26,
   "id": "4516f92b",
   "metadata": {},
   "outputs": [],
   "source": [
    "import psycopg2\n",
    "import config as creds"
   ]
  },
  {
   "cell_type": "code",
   "execution_count": 39,
   "id": "8ac15deb",
   "metadata": {},
   "outputs": [],
   "source": [
    "# Connect to the database\n",
    "connection = pymysql.connect(host='db1.cbm4d2l0nmag.us-east-1.rds.amazonaws.com',\n",
    "                             user='admin',\n",
    "                             password='lcdn1998',\n",
    "                             database='db1')\n",
    "            "
   ]
  },
  {
   "cell_type": "code",
   "execution_count": null,
   "id": "aa54beb2",
   "metadata": {},
   "outputs": [],
   "source": [
    "successfully connected "
   ]
  }
 ],
 "metadata": {
  "kernelspec": {
   "display_name": "Python 3 (ipykernel)",
   "language": "python",
   "name": "python3"
  },
  "language_info": {
   "codemirror_mode": {
    "name": "ipython",
    "version": 3
   },
   "file_extension": ".py",
   "mimetype": "text/x-python",
   "name": "python",
   "nbconvert_exporter": "python",
   "pygments_lexer": "ipython3",
   "version": "3.9.7"
  }
 },
 "nbformat": 4,
 "nbformat_minor": 5
}
